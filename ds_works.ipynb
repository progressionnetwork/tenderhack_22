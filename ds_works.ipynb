{
 "cells": [
  {
   "cell_type": "code",
   "execution_count": null,
   "id": "f4f1f006-99ea-47e3-8a60-30010cd2a766",
   "metadata": {},
   "outputs": [],
   "source": [
    "!pip install holidays -q\n",
    "!pip install workalendar -q\n",
    "!pip install fasttext -q"
   ]
  },
  {
   "cell_type": "code",
   "execution_count": null,
   "id": "21eb8b51-a535-434c-b0cd-23882c74d28c",
   "metadata": {},
   "outputs": [],
   "source": []
  },
  {
   "cell_type": "code",
   "execution_count": 4,
   "id": "9ea9d18a-aaef-4391-92c3-e05506414551",
   "metadata": {},
   "outputs": [],
   "source": [
    "%%capture\n",
    "import catboost\n",
    "import pandas as pd\n",
    "import numpy as np\n",
    "import fasttext\n",
    "import fasttext.util\n",
    "#fasttext.util.download_model(\"ru\")\n",
    "#fasttext.util.reduce_model(ft_model, 100)\n"
   ]
  },
  {
   "cell_type": "code",
   "execution_count": null,
   "id": "5b4971c8-6885-4ffa-8198-06295a9c7041",
   "metadata": {},
   "outputs": [],
   "source": [
    "file_name = r\"../TenderHack_Москва_train_data.xlsx\" \n",
    "columns = ['id', 'status', 'name', 'okpd2','kpgz','region','nmck','price','date','participans','bet','inn']\n",
    "\n",
    "spgz_name = \"../spgz_kpgz.xlsx\"\n",
    "df_kpgz = pd.read_excel(spgz_name)\n",
    "df_kpgz = df_kpgz['КПГЗ']\n",
    "\n",
    "df = pd.read_excel(file_name, header=None, names=columns, skiprows=1)\n",
    "df['okpd2'] = df['okpd2'].fillna(0)\n",
    "prod_df = df\n",
    "prod_df = prod_df.drop('id', axis='columns')\n",
    "prod_df.dtypes"
   ]
  },
  {
   "cell_type": "code",
   "execution_count": null,
   "id": "407cb009-a8f9-4d29-a846-d020a18e2b93",
   "metadata": {},
   "outputs": [],
   "source": [
    "prod_df.info()"
   ]
  },
  {
   "cell_type": "code",
   "execution_count": null,
   "id": "377f6491-f0e2-4c47-b2d8-34b45d7e5c4d",
   "metadata": {},
   "outputs": [],
   "source": [
    "prod_df.head()"
   ]
  },
  {
   "cell_type": "code",
   "execution_count": null,
   "id": "c3f50434-dfec-432d-815b-9e1d01421a61",
   "metadata": {},
   "outputs": [],
   "source": [
    "\"\"\"\n",
    "Завершена\n",
    "Не состоялась\n",
    "Снята с публикации\n",
    "Активна\"\"\"\n",
    "\n",
    "prod_df[\"status\"].value_counts()\n",
    "cleanup_nums = {\"status\": {\"Завершена\": 1, \"Не состоялась\": 0, 'Снята с публикации': 0, 'Активна': -1}}\n",
    "prod_df = prod_df.replace(cleanup_nums)\n",
    "\n",
    "prod_df.head()\n",
    "\n",
    "print(prod_df[\"status\"].unique())"
   ]
  },
  {
   "cell_type": "code",
   "execution_count": 10,
   "id": "4d07f6e2-75a4-41cb-8e04-4a3bfcf4b234",
   "metadata": {},
   "outputs": [
    {
     "name": "stdout",
     "output_type": "stream",
     "text": [
      "[2808  443   56 ... 2689 1099  492]\n",
      "3334\n"
     ]
    }
   ],
   "source": [
    "from sklearn.preprocessing import LabelEncoder\n",
    "\n",
    "le = LabelEncoder()\n",
    "\n",
    "for cat_var in ['inn']:\n",
    "    prod_df[cat_var] = le.fit_transform(prod_df[cat_var])  \n",
    "    \n",
    "print(prod_df[\"inn\"].unique())\n",
    "print(prod_df[\"inn\"].max())"
   ]
  },
  {
   "cell_type": "code",
   "execution_count": 11,
   "id": "2ddb371b-1c11-43f4-996b-c5ef32a1940a",
   "metadata": {},
   "outputs": [
    {
     "name": "stdout",
     "output_type": "stream",
     "text": [
      "[2 4 5 7 9 6 1 0 3 8]\n",
      "9\n"
     ]
    }
   ],
   "source": [
    "from sklearn.preprocessing import LabelEncoder\n",
    "\n",
    "le = LabelEncoder()\n",
    "\n",
    "for cat_var in ['region']:\n",
    "    prod_df[cat_var] = le.fit_transform(prod_df[cat_var])  \n",
    "    \n",
    "print(prod_df[\"region\"].unique())\n",
    "print(prod_df[\"region\"].max())"
   ]
  },
  {
   "cell_type": "code",
   "execution_count": null,
   "id": "e45a210d-d6b2-4815-97e3-d89539b4f63d",
   "metadata": {},
   "outputs": [],
   "source": [
    "def get_names_embeddings(kpgzs: str, mapping: dict, ft_model) -> str:\n",
    "    try:\n",
    "        kpgzs = kpgzs.strip()\n",
    "        result = \"\"\n",
    "        for kpgz in kpgzs.split(\";\"):\n",
    "            result+=\" \"+mapping[kpgz]\n",
    "        return ft_model.get_sentence_vector(result.strip())\n",
    "    except Exception as e:\n",
    "        return \"\"\n",
    "\n",
    "ft_model = fasttext.load_model(\"../cc.ru.100.bin\")\n",
    "mapping = {}\n",
    "for kpgz, name in zip(df_kpgz.str.split().str[0], df_kpgz.str.split().str[1:].str.join(\" \")):\n",
    "    mapping[kpgz] = name\n",
    "\n",
    "prod_df[\"kpgz\"] = prod_df.kpgz.map(lambda x:get_names_embeddings(x, mapping=mapping, ft_model=ft_model))\n",
    "\n",
    "\n",
    "# prod_df = prod_df.drop('name', axis='columns')\n",
    "# prod_df = prod_df.drop('okpd2', axis='columns')\n",
    "# prod_df = prod_df.drop('kpgz', axis='columns')"
   ]
  },
  {
   "cell_type": "code",
   "execution_count": null,
   "id": "2d4b75d6-b835-4282-9f7e-5d9769a6e714",
   "metadata": {},
   "outputs": [],
   "source": []
  },
  {
   "cell_type": "code",
   "execution_count": 20,
   "id": "3a89705c",
   "metadata": {},
   "outputs": [
    {
     "data": {
      "text/plain": [
       "0    \n",
       "1    \n",
       "2    \n",
       "3    \n",
       "4    \n",
       "Name: kpgz, dtype: object"
      ]
     },
     "execution_count": 20,
     "metadata": {},
     "output_type": "execute_result"
    }
   ],
   "source": [
    "prod_df.kpgz.head()"
   ]
  },
  {
   "cell_type": "code",
   "execution_count": null,
   "id": "d3782061-6f8a-465d-8077-42880b6c7731",
   "metadata": {},
   "outputs": [],
   "source": [
    "prod_df['date'] = pd.to_datetime(prod_df.date, format='%Y-%m-%d %H:%M:%S')\n",
    "import holidays\n",
    "from workalendar.europe import Russia\n",
    "\n",
    "range_of_dates = pd.date_range(\"2022-01-01\", \"2023-12-31\")\n",
    "holidays = holidays.Russia(years=[2022, 2023]).items()\n",
    "hdays = []\n",
    "for day in holidays:\n",
    "    hdays.append(day[0])\n",
    "\n",
    "def season_from_date(date):\n",
    "    year = str(date.year)\n",
    "    seasons = {'spring': pd.date_range(start='21/03/'+year, end='20/06/'+year),\n",
    "               'summer': pd.date_range(start='21/06/'+year, end='22/09/'+year),\n",
    "               'autumn': pd.date_range(start='23/09/'+year, end='20/12/'+year)}\n",
    "    if date in seasons['spring']:\n",
    "        return '1'\n",
    "    if date in seasons['summer']:\n",
    "        return '2'\n",
    "    if date in seasons['autumn']:\n",
    "        return '3'\n",
    "    else:\n",
    "        return '4'\n",
    "\n",
    "df_dt = pd.DataFrame()\n",
    "df_dt['date_year'] = prod_df['date'].dt.year\n",
    "df_dt['date_month'] = prod_df['date'].dt.month\n",
    "df_dt['date_week'] = prod_df['date'].dt.isocalendar().week \n",
    "df_dt[\"date_weekend\"] = df_dt[\"date_week\"] >= 5\n",
    "df_dt[\"date_weekend\"] = df_dt[\"date_weekend\"].astype(int)\n",
    "df_dt['date_day'] = prod_df['date'].dt.day\n",
    "df_dt['date_hour'] = prod_df['date'].dt.hour\n",
    "df_dt['date_minute'] = prod_df['date'].dt.minute\n",
    "df_dt['date_dayofweek'] = prod_df['date'].dt.dayofweek\n",
    "df_dt['date_quarter'] = prod_df['date'].dt.quarter\n",
    "#df_dt[\"delta_to_holiday\"] = df['date'].isin(hdays)\n",
    "df_dt[\"is_holiday\"] = prod_df['date'].isin(hdays)\n",
    "df_dt[\"is_holiday\"] = df_dt[\"is_holiday\"].astype(int)\n",
    "df_dt['date_season'] = prod_df.date.map(season_from_date)\n",
    "prod_df = pd.concat([prod_df, df_dt], axis=1)\n",
    "prod_df = prod_df.drop('date', axis='columns')\n",
    "prod_df"
   ]
  },
  {
   "cell_type": "code",
   "execution_count": null,
   "id": "9f4cada8-8bf5-4208-a634-b0723de1df9b",
   "metadata": {},
   "outputs": [],
   "source": []
  },
  {
   "cell_type": "markdown",
   "id": "e02d61d3-6a1d-4db8-9be9-605804acca6b",
   "metadata": {},
   "source": [
    "# Set target and drop from df"
   ]
  },
  {
   "cell_type": "code",
   "execution_count": null,
   "id": "b72f7add-9e65-4190-8e88-f6372728c3b8",
   "metadata": {},
   "outputs": [],
   "source": [
    "X = prod_df.drop(\"status\", axis=1)\n",
    "y = prod_df[\"status\"]"
   ]
  },
  {
   "cell_type": "markdown",
   "id": "3c221437-3f81-4018-8cab-4544afeb1550",
   "metadata": {},
   "source": [
    "# Cat features"
   ]
  },
  {
   "cell_type": "code",
   "execution_count": null,
   "id": "e7742c41-95f3-4976-8ec9-2409b6227a67",
   "metadata": {},
   "outputs": [],
   "source": [
    "cat_features = list(range(0, X.shape[1]))\n",
    "print(cat_features)"
   ]
  },
  {
   "cell_type": "code",
   "execution_count": null,
   "id": "4530ea6b-9231-452c-91af-f21006cdf6f1",
   "metadata": {},
   "outputs": [],
   "source": [
    "from sklearn.model_selection import train_test_split\n",
    "\n",
    "X_train, X_val, y_train, y_val = train_test_split(X, y, test_size=0.25, random_state=0)"
   ]
  },
  {
   "cell_type": "code",
   "execution_count": null,
   "id": "9ddd1387-2de7-4244-8110-556d226c043a",
   "metadata": {},
   "outputs": [],
   "source": [
    "from catboost import CatBoostClassifier\n",
    "\n",
    "clf = CatBoostClassifier(\n",
    "    iterations=5, \n",
    "    learning_rate=0.1, \n",
    "    #loss_function='CrossEntropy'\n",
    ")\n",
    "\n",
    "\n",
    "clf.fit(X_train, y_train, \n",
    "        cat_features=cat_features, \n",
    "        eval_set=(X_val, y_val), \n",
    "        verbose=False\n",
    ")\n",
    "\n",
    "print('CatBoost model is fitted: ' + str(clf.is_fitted()))\n",
    "print('CatBoost model parameters:')\n",
    "print(clf.get_params())"
   ]
  },
  {
   "cell_type": "code",
   "execution_count": null,
   "id": "597e0ed3-1838-4724-8c95-90647a14a684",
   "metadata": {},
   "outputs": [],
   "source": [
    "# import re\n",
    "\n",
    "\n",
    "# for idx, row in enumerate(df_spgz):\n",
    "#     kpgz = re.search(r'\\d{1,3}\\.\\d{1,3}\\.\\d{1,3}\\.\\d{1,3}', row).group()\n",
    "#     print(kpgz)\n",
    "#     if idx > 10:\n",
    "#         break\n",
    "    "
   ]
  },
  {
   "cell_type": "code",
   "execution_count": null,
   "id": "56e76e73-ea47-44bc-aa47-699fda101f54",
   "metadata": {},
   "outputs": [],
   "source": [
    "# \"\"\"\n",
    "# 1, 2, 3, 4, 5, 6 and 8 January — New Year Holidays;\n",
    "\n",
    "# 7 January — Christmas Day;\n",
    "\n",
    "# 23 February — Defender of the Fatherland Day;\n",
    "\n",
    "# 8 March — International Women’s Day;\n",
    "\n",
    "# 1 May — Spring and Labour Holiday;\n",
    "\n",
    "# 9 May — Victory Day;\n",
    "\n",
    "# 12 June — Day of Russia;\n",
    "\n",
    "# 4 November — National Unity Day.\n",
    "# \"\"\"\n",
    "\n",
    "# class RusHolidaysBusinessCalendar(AbstractHolidayCalendar):\n",
    "#    rules = [\n",
    "#      Holiday('New Year', month=12, day=31, observance=sunday_to_monday),\n",
    "#      Holiday('New Year', month=1, day=1, observance=sunday_to_monday),\n",
    "#      Holiday('New Year', month=1, day=2, observance=sunday_to_monday),\n",
    "#      Holiday('New Year', month=1, day=3, observance=sunday_to_monday),\n",
    "#      Holiday('New Year', month=1, day=4, observance=sunday_to_monday),\n",
    "#      Holiday('New Year', month=1, day=5, observance=sunday_to_monday),\n",
    "#      Holiday('New Year', month=1, day=6, observance=sunday_to_monday),\n",
    "#      Holiday('New Year', month=1, day=8, observance=sunday_to_monday),\n",
    "#      Holiday('8 March', month=3, day=8, observance=sunday_to_monday),\n",
    "#      Holiday('1 May', month=5, day=1, observance=sunday_to_monday),\n",
    "#      Holiday('9 May', month=5, day=9),\n",
    "#      Holiday('12 June', month=6, day=12, observance=sunday_to_monday),\n",
    "#      Holiday('4 November', month=5, day=1, observance=sunday_to_monday),\n",
    "#      Holiday('11 November', month=11, day=11, observance=sunday_to_monday),\n",
    "#    ]\n",
    "\n",
    "# rus_BD = CustomBusinessDay(calendar=RusHolidaysBusinessCalendar())\n",
    "# s = pd.date_range('2022-01-01', end='2022-12-31', freq=rus_BD)\n",
    "# df = df.resample(rule=CustomBusinessMonthEnd(holidays=rus_BD)).last()\n",
    "# df = pd.DataFrame(s, columns=['date'])\n",
    "# print(df.tail())"
   ]
  }
 ],
 "metadata": {
  "kernelspec": {
   "display_name": "Python 3 (ipykernel)",
   "language": "python",
   "name": "python3"
  },
  "language_info": {
   "codemirror_mode": {
    "name": "ipython",
    "version": 3
   },
   "file_extension": ".py",
   "mimetype": "text/x-python",
   "name": "python",
   "nbconvert_exporter": "python",
   "pygments_lexer": "ipython3",
   "version": "3.10.8"
  },
  "vscode": {
   "interpreter": {
    "hash": "a04f5d07b0747026a8fbcdf50b9443318e69b1b8bd6247d88bfadb4789282972"
   }
  }
 },
 "nbformat": 4,
 "nbformat_minor": 5
}
