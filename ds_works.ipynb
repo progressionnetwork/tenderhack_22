{
 "cells": [
  {
   "cell_type": "code",
   "execution_count": null,
   "id": "f4f1f006-99ea-47e3-8a60-30010cd2a766",
   "metadata": {},
   "outputs": [],
   "source": [
    "!pip install holidays -q\n",
    "!pip install workalendar -q\n",
    "!pip install fasttext -q"
   ]
  },
  {
   "cell_type": "code",
   "execution_count": 22,
   "id": "deb30fe1-9952-4fbc-aafe-14c46198bd89",
   "metadata": {},
   "outputs": [],
   "source": []
  },
  {
   "cell_type": "code",
   "execution_count": 24,
   "id": "9ea9d18a-aaef-4391-92c3-e05506414551",
   "metadata": {},
   "outputs": [],
   "source": [
    "%%capture\n",
    "import catboost\n",
    "import pandas as pd\n",
    "import numpy as np\n",
    "import fasttext\n",
    "import fasttext.util\n",
    "#fasttext.util.download_model(\"ru\")\n",
    "#fasttext.util.reduce_model(ft_model, 100)\n",
    "ft_model = fasttext.load_model(\"cc.ru.300.bin\")"
   ]
  },
  {
   "cell_type": "code",
   "execution_count": 25,
   "id": "5b4971c8-6885-4ffa-8198-06295a9c7041",
   "metadata": {},
   "outputs": [
    {
     "data": {
      "text/plain": [
       "status          object\n",
       "name            object\n",
       "okpd2           object\n",
       "kpgz            object\n",
       "region          object\n",
       "nmck           float64\n",
       "price          float64\n",
       "date            object\n",
       "participans      int64\n",
       "bet              int64\n",
       "inn             object\n",
       "dtype: object"
      ]
     },
     "execution_count": 25,
     "metadata": {},
     "output_type": "execute_result"
    }
   ],
   "source": [
    "file_name = r\"C:\\Users\\True7\\Downloads\\TenderHack_Москва_train_data.xlsx\" \n",
    "columns = ['id', 'status', 'name', 'okpd2','kpgz','region','nmck','price','date','participans','bet','inn']\n",
    "\n",
    "spgz = \"D:\\Projects\\lct_8\\Исходные данные\\Исходные данные\\Список СПГЗ 27_5_2022.xlsx\"\n",
    "df_spgz = pd.read_excel(spgz)\n",
    "df_spgz = df_spgz['КПГЗ']\n",
    "\n",
    "df = pd.read_excel(file_name, header=None, names=columns, skiprows=1)\n",
    "df['okpd2'] = df['okpd2'].fillna(0)\n",
    "prod_df = df\n",
    "prod_df = prod_df.drop('id', axis='columns')\n",
    "prod_df.dtypes"
   ]
  },
  {
   "cell_type": "code",
   "execution_count": 26,
   "id": "407cb009-a8f9-4d29-a846-d020a18e2b93",
   "metadata": {},
   "outputs": [
    {
     "name": "stdout",
     "output_type": "stream",
     "text": [
      "<class 'pandas.core.frame.DataFrame'>\n",
      "RangeIndex: 246762 entries, 0 to 246761\n",
      "Data columns (total 11 columns):\n",
      " #   Column       Non-Null Count   Dtype  \n",
      "---  ------       --------------   -----  \n",
      " 0   status       246762 non-null  object \n",
      " 1   name         246762 non-null  object \n",
      " 2   okpd2        246762 non-null  object \n",
      " 3   kpgz         224212 non-null  object \n",
      " 4   region       246762 non-null  object \n",
      " 5   nmck         246762 non-null  float64\n",
      " 6   price        246762 non-null  float64\n",
      " 7   date         246762 non-null  object \n",
      " 8   participans  246762 non-null  int64  \n",
      " 9   bet          246762 non-null  int64  \n",
      " 10  inn          246762 non-null  object \n",
      "dtypes: float64(2), int64(2), object(7)\n",
      "memory usage: 20.7+ MB\n"
     ]
    }
   ],
   "source": [
    "prod_df.info()"
   ]
  },
  {
   "cell_type": "code",
   "execution_count": 27,
   "id": "377f6491-f0e2-4c47-b2d8-34b45d7e5c4d",
   "metadata": {},
   "outputs": [
    {
     "data": {
      "text/html": [
       "<div>\n",
       "<style scoped>\n",
       "    .dataframe tbody tr th:only-of-type {\n",
       "        vertical-align: middle;\n",
       "    }\n",
       "\n",
       "    .dataframe tbody tr th {\n",
       "        vertical-align: top;\n",
       "    }\n",
       "\n",
       "    .dataframe thead th {\n",
       "        text-align: right;\n",
       "    }\n",
       "</style>\n",
       "<table border=\"1\" class=\"dataframe\">\n",
       "  <thead>\n",
       "    <tr style=\"text-align: right;\">\n",
       "      <th></th>\n",
       "      <th>status</th>\n",
       "      <th>name</th>\n",
       "      <th>okpd2</th>\n",
       "      <th>kpgz</th>\n",
       "      <th>region</th>\n",
       "      <th>nmck</th>\n",
       "      <th>price</th>\n",
       "      <th>date</th>\n",
       "      <th>participans</th>\n",
       "      <th>bet</th>\n",
       "      <th>inn</th>\n",
       "    </tr>\n",
       "  </thead>\n",
       "  <tbody>\n",
       "    <tr>\n",
       "      <th>0</th>\n",
       "      <td>Завершена</td>\n",
       "      <td>СТУЛЬЯ УЧЕНИЧЕСКИЕ</td>\n",
       "      <td>0</td>\n",
       "      <td>01.06.01.03.01;01.06.01.03.01</td>\n",
       "      <td>Москва</td>\n",
       "      <td>596790.0</td>\n",
       "      <td>593806.05</td>\n",
       "      <td>2021-06-30 11:20:05.720</td>\n",
       "      <td>1</td>\n",
       "      <td>1</td>\n",
       "      <td>d8912494ba2edd3bfeba55206a78a0f5</td>\n",
       "    </tr>\n",
       "    <tr>\n",
       "      <th>1</th>\n",
       "      <td>Не состоялась</td>\n",
       "      <td>МЕДИЦИНСКИЕ РАСХОДНЫЕ МАТЕРИАЛЫ</td>\n",
       "      <td>0</td>\n",
       "      <td>01.02.10.50.33;01.02.10.43.05.01</td>\n",
       "      <td>Москва</td>\n",
       "      <td>4964.9</td>\n",
       "      <td>0.00</td>\n",
       "      <td>2022-10-04 09:16:04.770</td>\n",
       "      <td>0</td>\n",
       "      <td>0</td>\n",
       "      <td>237a5c57a66f02f8deb152e21f33863a</td>\n",
       "    </tr>\n",
       "    <tr>\n",
       "      <th>2</th>\n",
       "      <td>Завершена</td>\n",
       "      <td>Видеокарта Palit PCI-E</td>\n",
       "      <td>0</td>\n",
       "      <td>01.13.17.08</td>\n",
       "      <td>Москва</td>\n",
       "      <td>462000.0</td>\n",
       "      <td>311850.00</td>\n",
       "      <td>2021-07-01 13:23:09.177</td>\n",
       "      <td>6</td>\n",
       "      <td>65</td>\n",
       "      <td>040f1570117a744d529f4675f827a50f</td>\n",
       "    </tr>\n",
       "    <tr>\n",
       "      <th>3</th>\n",
       "      <td>Завершена</td>\n",
       "      <td>ТОВАРЫ ИНФОРМАЦИОННО-ТЕХНОЛОГИЧЕСКИЕ, СРЕДСТВА...</td>\n",
       "      <td>0</td>\n",
       "      <td>01.13.11.03.02;01.13.04.04.06.05;01.10.04.04.0...</td>\n",
       "      <td>Москва</td>\n",
       "      <td>505555.0</td>\n",
       "      <td>460042.90</td>\n",
       "      <td>2021-03-16 10:42:20.810</td>\n",
       "      <td>6</td>\n",
       "      <td>18</td>\n",
       "      <td>c00c03dca0274fe43fc34e974434a927</td>\n",
       "    </tr>\n",
       "    <tr>\n",
       "      <th>4</th>\n",
       "      <td>Завершена</td>\n",
       "      <td>Пинцет острый</td>\n",
       "      <td>0</td>\n",
       "      <td>01.02.10.06.48.04</td>\n",
       "      <td>Москва</td>\n",
       "      <td>2000.0</td>\n",
       "      <td>1980.00</td>\n",
       "      <td>2022-05-26 11:04:42.597</td>\n",
       "      <td>2</td>\n",
       "      <td>2</td>\n",
       "      <td>cc997efa7a6742b6119a3c253a084e80</td>\n",
       "    </tr>\n",
       "  </tbody>\n",
       "</table>\n",
       "</div>"
      ],
      "text/plain": [
       "          status                                               name okpd2  \\\n",
       "0      Завершена                                 СТУЛЬЯ УЧЕНИЧЕСКИЕ     0   \n",
       "1  Не состоялась                    МЕДИЦИНСКИЕ РАСХОДНЫЕ МАТЕРИАЛЫ     0   \n",
       "2      Завершена                             Видеокарта Palit PCI-E     0   \n",
       "3      Завершена  ТОВАРЫ ИНФОРМАЦИОННО-ТЕХНОЛОГИЧЕСКИЕ, СРЕДСТВА...     0   \n",
       "4      Завершена                                      Пинцет острый     0   \n",
       "\n",
       "                                                kpgz  region      nmck  \\\n",
       "0                      01.06.01.03.01;01.06.01.03.01  Москва  596790.0   \n",
       "1                   01.02.10.50.33;01.02.10.43.05.01  Москва    4964.9   \n",
       "2                                        01.13.17.08  Москва  462000.0   \n",
       "3  01.13.11.03.02;01.13.04.04.06.05;01.10.04.04.0...  Москва  505555.0   \n",
       "4                                  01.02.10.06.48.04  Москва    2000.0   \n",
       "\n",
       "       price                     date  participans  bet  \\\n",
       "0  593806.05  2021-06-30 11:20:05.720            1    1   \n",
       "1       0.00  2022-10-04 09:16:04.770            0    0   \n",
       "2  311850.00  2021-07-01 13:23:09.177            6   65   \n",
       "3  460042.90  2021-03-16 10:42:20.810            6   18   \n",
       "4    1980.00  2022-05-26 11:04:42.597            2    2   \n",
       "\n",
       "                                inn  \n",
       "0  d8912494ba2edd3bfeba55206a78a0f5  \n",
       "1  237a5c57a66f02f8deb152e21f33863a  \n",
       "2  040f1570117a744d529f4675f827a50f  \n",
       "3  c00c03dca0274fe43fc34e974434a927  \n",
       "4  cc997efa7a6742b6119a3c253a084e80  "
      ]
     },
     "execution_count": 27,
     "metadata": {},
     "output_type": "execute_result"
    }
   ],
   "source": [
    "prod_df.head()"
   ]
  },
  {
   "cell_type": "code",
   "execution_count": 28,
   "id": "c3f50434-dfec-432d-815b-9e1d01421a61",
   "metadata": {},
   "outputs": [
    {
     "name": "stdout",
     "output_type": "stream",
     "text": [
      "[ 1  0 -1]\n"
     ]
    }
   ],
   "source": [
    "\"\"\"\n",
    "Завершена\n",
    "Не состоялась\n",
    "Снята с публикации\n",
    "Активна\"\"\"\n",
    "\n",
    "prod_df[\"status\"].value_counts()\n",
    "cleanup_nums = {\"status\": {\"Завершена\": 1, \"Не состоялась\": 0, 'Снята с публикации': 0, 'Активна': -1}}\n",
    "prod_df = prod_df.replace(cleanup_nums)\n",
    "\n",
    "prod_df.head()\n",
    "\n",
    "print(prod_df[\"status\"].unique())"
   ]
  },
  {
   "cell_type": "code",
   "execution_count": 29,
   "id": "4d07f6e2-75a4-41cb-8e04-4a3bfcf4b234",
   "metadata": {},
   "outputs": [
    {
     "name": "stdout",
     "output_type": "stream",
     "text": [
      "[2808  443   56 ... 2689 1099  492]\n",
      "3334\n"
     ]
    }
   ],
   "source": [
    "from sklearn.preprocessing import LabelEncoder\n",
    "\n",
    "le = LabelEncoder()\n",
    "\n",
    "for cat_var in ['inn']:\n",
    "    prod_df[cat_var] = le.fit_transform(prod_df[cat_var])  \n",
    "    \n",
    "print(prod_df[\"inn\"].unique())\n",
    "print(prod_df[\"inn\"].max())"
   ]
  },
  {
   "cell_type": "code",
   "execution_count": 31,
   "id": "2ddb371b-1c11-43f4-996b-c5ef32a1940a",
   "metadata": {},
   "outputs": [
    {
     "name": "stdout",
     "output_type": "stream",
     "text": [
      "[2 4 5 7 9 6 1 0 3 8]\n",
      "9\n"
     ]
    }
   ],
   "source": [
    "from sklearn.preprocessing import LabelEncoder\n",
    "\n",
    "le = LabelEncoder()\n",
    "\n",
    "for cat_var in ['region']:\n",
    "    prod_df[cat_var] = le.fit_transform(prod_df[cat_var])  \n",
    "    \n",
    "print(prod_df[\"region\"].unique())\n",
    "print(prod_df[\"region\"].max())"
   ]
  },
  {
   "cell_type": "code",
   "execution_count": 33,
   "id": "e45a210d-d6b2-4815-97e3-d89539b4f63d",
   "metadata": {},
   "outputs": [
    {
     "ename": "AttributeError",
     "evalue": "'float' object has no attribute 'strip'",
     "output_type": "error",
     "traceback": [
      "\u001b[1;31m---------------------------------------------------------------------------\u001b[0m",
      "\u001b[1;31mAttributeError\u001b[0m                            Traceback (most recent call last)",
      "\u001b[1;32m<ipython-input-33-4a3470d56b95>\u001b[0m in \u001b[0;36m<module>\u001b[1;34m\u001b[0m\n\u001b[0;32m      9\u001b[0m     \u001b[1;32mreturn\u001b[0m \u001b[0mft_model\u001b[0m\u001b[1;33m.\u001b[0m\u001b[0mget_sentence_vector\u001b[0m\u001b[1;33m(\u001b[0m\u001b[1;34m\" \"\u001b[0m\u001b[1;33m.\u001b[0m\u001b[0mjoin\u001b[0m\u001b[1;33m(\u001b[0m\u001b[0mresult\u001b[0m\u001b[1;33m)\u001b[0m\u001b[1;33m)\u001b[0m\u001b[1;33m\u001b[0m\u001b[1;33m\u001b[0m\u001b[0m\n\u001b[0;32m     10\u001b[0m \u001b[1;33m\u001b[0m\u001b[0m\n\u001b[1;32m---> 11\u001b[1;33m \u001b[0mkpgzs\u001b[0m \u001b[1;33m=\u001b[0m \u001b[0mprod_df\u001b[0m\u001b[1;33m[\u001b[0m\u001b[1;34m\"kpgz\"\u001b[0m\u001b[1;33m]\u001b[0m\u001b[1;33m.\u001b[0m\u001b[0mmap\u001b[0m\u001b[1;33m(\u001b[0m\u001b[1;32mlambda\u001b[0m \u001b[0mx\u001b[0m\u001b[1;33m:\u001b[0m\u001b[0mget_names_embeddings\u001b[0m\u001b[1;33m(\u001b[0m\u001b[0mx\u001b[0m\u001b[1;33m,\u001b[0m \u001b[0mkpgz_book\u001b[0m\u001b[1;33m=\u001b[0m\u001b[0mprod_df\u001b[0m\u001b[1;33m,\u001b[0m \u001b[0mft_model\u001b[0m\u001b[1;33m=\u001b[0m\u001b[0mft_model\u001b[0m\u001b[1;33m)\u001b[0m\u001b[1;33m)\u001b[0m\u001b[1;33m\u001b[0m\u001b[1;33m\u001b[0m\u001b[0m\n\u001b[0m\u001b[0;32m     12\u001b[0m \u001b[0mkpgzs\u001b[0m\u001b[1;33m\u001b[0m\u001b[1;33m\u001b[0m\u001b[0m\n\u001b[0;32m     13\u001b[0m \u001b[1;33m\u001b[0m\u001b[0m\n",
      "\u001b[1;32m~\\AppData\\Roaming\\Python\\Python38\\site-packages\\pandas\\core\\series.py\u001b[0m in \u001b[0;36mmap\u001b[1;34m(self, arg, na_action)\u001b[0m\n\u001b[0;32m   4159\u001b[0m         \u001b[0mdtype\u001b[0m\u001b[1;33m:\u001b[0m \u001b[0mobject\u001b[0m\u001b[1;33m\u001b[0m\u001b[1;33m\u001b[0m\u001b[0m\n\u001b[0;32m   4160\u001b[0m         \"\"\"\n\u001b[1;32m-> 4161\u001b[1;33m         \u001b[0mnew_values\u001b[0m \u001b[1;33m=\u001b[0m \u001b[0msuper\u001b[0m\u001b[1;33m(\u001b[0m\u001b[1;33m)\u001b[0m\u001b[1;33m.\u001b[0m\u001b[0m_map_values\u001b[0m\u001b[1;33m(\u001b[0m\u001b[0marg\u001b[0m\u001b[1;33m,\u001b[0m \u001b[0mna_action\u001b[0m\u001b[1;33m=\u001b[0m\u001b[0mna_action\u001b[0m\u001b[1;33m)\u001b[0m\u001b[1;33m\u001b[0m\u001b[1;33m\u001b[0m\u001b[0m\n\u001b[0m\u001b[0;32m   4162\u001b[0m         return self._constructor(new_values, index=self.index).__finalize__(\n\u001b[0;32m   4163\u001b[0m             \u001b[0mself\u001b[0m\u001b[1;33m,\u001b[0m \u001b[0mmethod\u001b[0m\u001b[1;33m=\u001b[0m\u001b[1;34m\"map\"\u001b[0m\u001b[1;33m\u001b[0m\u001b[1;33m\u001b[0m\u001b[0m\n",
      "\u001b[1;32m~\\AppData\\Roaming\\Python\\Python38\\site-packages\\pandas\\core\\base.py\u001b[0m in \u001b[0;36m_map_values\u001b[1;34m(self, mapper, na_action)\u001b[0m\n\u001b[0;32m    868\u001b[0m \u001b[1;33m\u001b[0m\u001b[0m\n\u001b[0;32m    869\u001b[0m         \u001b[1;31m# mapper is a function\u001b[0m\u001b[1;33m\u001b[0m\u001b[1;33m\u001b[0m\u001b[1;33m\u001b[0m\u001b[0m\n\u001b[1;32m--> 870\u001b[1;33m         \u001b[0mnew_values\u001b[0m \u001b[1;33m=\u001b[0m \u001b[0mmap_f\u001b[0m\u001b[1;33m(\u001b[0m\u001b[0mvalues\u001b[0m\u001b[1;33m,\u001b[0m \u001b[0mmapper\u001b[0m\u001b[1;33m)\u001b[0m\u001b[1;33m\u001b[0m\u001b[1;33m\u001b[0m\u001b[0m\n\u001b[0m\u001b[0;32m    871\u001b[0m \u001b[1;33m\u001b[0m\u001b[0m\n\u001b[0;32m    872\u001b[0m         \u001b[1;32mreturn\u001b[0m \u001b[0mnew_values\u001b[0m\u001b[1;33m\u001b[0m\u001b[1;33m\u001b[0m\u001b[0m\n",
      "\u001b[1;32m~\\AppData\\Roaming\\Python\\Python38\\site-packages\\pandas\\_libs\\lib.pyx\u001b[0m in \u001b[0;36mpandas._libs.lib.map_infer\u001b[1;34m()\u001b[0m\n",
      "\u001b[1;32m<ipython-input-33-4a3470d56b95>\u001b[0m in \u001b[0;36m<lambda>\u001b[1;34m(x)\u001b[0m\n\u001b[0;32m      9\u001b[0m     \u001b[1;32mreturn\u001b[0m \u001b[0mft_model\u001b[0m\u001b[1;33m.\u001b[0m\u001b[0mget_sentence_vector\u001b[0m\u001b[1;33m(\u001b[0m\u001b[1;34m\" \"\u001b[0m\u001b[1;33m.\u001b[0m\u001b[0mjoin\u001b[0m\u001b[1;33m(\u001b[0m\u001b[0mresult\u001b[0m\u001b[1;33m)\u001b[0m\u001b[1;33m)\u001b[0m\u001b[1;33m\u001b[0m\u001b[1;33m\u001b[0m\u001b[0m\n\u001b[0;32m     10\u001b[0m \u001b[1;33m\u001b[0m\u001b[0m\n\u001b[1;32m---> 11\u001b[1;33m \u001b[0mkpgzs\u001b[0m \u001b[1;33m=\u001b[0m \u001b[0mprod_df\u001b[0m\u001b[1;33m[\u001b[0m\u001b[1;34m\"kpgz\"\u001b[0m\u001b[1;33m]\u001b[0m\u001b[1;33m.\u001b[0m\u001b[0mmap\u001b[0m\u001b[1;33m(\u001b[0m\u001b[1;32mlambda\u001b[0m \u001b[0mx\u001b[0m\u001b[1;33m:\u001b[0m\u001b[0mget_names_embeddings\u001b[0m\u001b[1;33m(\u001b[0m\u001b[0mx\u001b[0m\u001b[1;33m,\u001b[0m \u001b[0mkpgz_book\u001b[0m\u001b[1;33m=\u001b[0m\u001b[0mprod_df\u001b[0m\u001b[1;33m,\u001b[0m \u001b[0mft_model\u001b[0m\u001b[1;33m=\u001b[0m\u001b[0mft_model\u001b[0m\u001b[1;33m)\u001b[0m\u001b[1;33m)\u001b[0m\u001b[1;33m\u001b[0m\u001b[1;33m\u001b[0m\u001b[0m\n\u001b[0m\u001b[0;32m     12\u001b[0m \u001b[0mkpgzs\u001b[0m\u001b[1;33m\u001b[0m\u001b[1;33m\u001b[0m\u001b[0m\n\u001b[0;32m     13\u001b[0m \u001b[1;33m\u001b[0m\u001b[0m\n",
      "\u001b[1;32m<ipython-input-33-4a3470d56b95>\u001b[0m in \u001b[0;36mget_names_embeddings\u001b[1;34m(kpgzs, kpgz_book, ft_model)\u001b[0m\n\u001b[0;32m      1\u001b[0m \u001b[1;32mdef\u001b[0m \u001b[0mget_names_embeddings\u001b[0m\u001b[1;33m(\u001b[0m\u001b[0mkpgzs\u001b[0m\u001b[1;33m:\u001b[0m \u001b[0mstr\u001b[0m\u001b[1;33m,\u001b[0m \u001b[0mkpgz_book\u001b[0m\u001b[1;33m:\u001b[0m \u001b[0mpd\u001b[0m\u001b[1;33m.\u001b[0m\u001b[0mDataFrame\u001b[0m\u001b[1;33m,\u001b[0m \u001b[0mft_model\u001b[0m\u001b[1;33m)\u001b[0m \u001b[1;33m->\u001b[0m \u001b[0mstr\u001b[0m\u001b[1;33m:\u001b[0m\u001b[1;33m\u001b[0m\u001b[1;33m\u001b[0m\u001b[0m\n\u001b[1;32m----> 2\u001b[1;33m     \u001b[0mkpgzs\u001b[0m \u001b[1;33m=\u001b[0m \u001b[0mkpgzs\u001b[0m\u001b[1;33m.\u001b[0m\u001b[0mstrip\u001b[0m\u001b[1;33m(\u001b[0m\u001b[1;33m)\u001b[0m\u001b[1;33m\u001b[0m\u001b[1;33m\u001b[0m\u001b[0m\n\u001b[0m\u001b[0;32m      3\u001b[0m     \u001b[1;32mif\u001b[0m\u001b[1;33m(\u001b[0m\u001b[1;32mnot\u001b[0m \u001b[0mkpgzs\u001b[0m\u001b[1;33m)\u001b[0m\u001b[1;33m:\u001b[0m\u001b[1;33m\u001b[0m\u001b[1;33m\u001b[0m\u001b[0m\n\u001b[0;32m      4\u001b[0m         \u001b[1;32mreturn\u001b[0m \u001b[1;32mNone\u001b[0m\u001b[1;33m\u001b[0m\u001b[1;33m\u001b[0m\u001b[0m\n\u001b[0;32m      5\u001b[0m \u001b[1;33m\u001b[0m\u001b[0m\n",
      "\u001b[1;31mAttributeError\u001b[0m: 'float' object has no attribute 'strip'"
     ]
    }
   ],
   "source": [
    "def get_names_embeddings(kpgzs: str, kpgz_book: pd.DataFrame, ft_model) -> str:\n",
    "    kpgzs = kpgzs.strip()\n",
    "    if(not kpgzs):\n",
    "        return None\n",
    "    \n",
    "    result = []\n",
    "    for kpgz in kpgzs.split(\";\"):\n",
    "        result.append(\" \".join(prod_df[prod_df.kpgz.str.split().str[0] == kpgz].iloc[0].kpgz.split()[1:]))\n",
    "    return ft_model.get_sentence_vector(\" \".join(result))\n",
    "        \n",
    "kpgzs = prod_df[\"kpgz\"].map(lambda x:get_names_embeddings(x, kpgz_book=prod_df, ft_model=ft_model))\n",
    "kpgzs\n",
    "\n",
    "# prod_df = prod_df.drop('name', axis='columns')\n",
    "# prod_df = prod_df.drop('okpd2', axis='columns')\n",
    "# prod_df = prod_df.drop('kpgz', axis='columns')"
   ]
  },
  {
   "cell_type": "code",
   "execution_count": null,
   "id": "d3782061-6f8a-465d-8077-42880b6c7731",
   "metadata": {},
   "outputs": [],
   "source": [
    "prod_df['date'] = pd.to_datetime(prod_df.date, format='%Y-%m-%d %H:%M:%S')\n",
    "import holidays\n",
    "from workalendar.europe import Russia\n",
    "\n",
    "range_of_dates = pd.date_range(\"2022-01-01\", \"2023-12-31\")\n",
    "holidays = holidays.Russia(years=[2022, 2023]).items()\n",
    "hdays = []\n",
    "for day in holidays:\n",
    "    hdays.append(day[0])\n",
    "\n",
    "def season_from_date(date):\n",
    "    year = str(date.year)\n",
    "    seasons = {'spring': pd.date_range(start='21/03/'+year, end='20/06/'+year),\n",
    "               'summer': pd.date_range(start='21/06/'+year, end='22/09/'+year),\n",
    "               'autumn': pd.date_range(start='23/09/'+year, end='20/12/'+year)}\n",
    "    if date in seasons['spring']:\n",
    "        return '1'\n",
    "    if date in seasons['summer']:\n",
    "        return '2'\n",
    "    if date in seasons['autumn']:\n",
    "        return '3'\n",
    "    else:\n",
    "        return '4'\n",
    "\n",
    "df_dt = pd.DataFrame()\n",
    "df_dt['date_year'] = prod_df['date'].dt.year\n",
    "df_dt['date_month'] = prod_df['date'].dt.month\n",
    "df_dt['date_week'] = prod_df['date'].dt.isocalendar().week \n",
    "df_dt[\"date_weekend\"] = df_dt[\"date_week\"] >= 5\n",
    "df_dt[\"date_weekend\"] = df_dt[\"date_weekend\"].astype(int)\n",
    "df_dt['date_day'] = prod_df['date'].dt.day\n",
    "df_dt['date_hour'] = prod_df['date'].dt.hour\n",
    "df_dt['date_minute'] = prod_df['date'].dt.minute\n",
    "df_dt['date_dayofweek'] = prod_df['date'].dt.dayofweek\n",
    "df_dt['date_quarter'] = prod_df['date'].dt.quarter\n",
    "#df_dt[\"delta_to_holiday\"] = df['date'].isin(hdays)\n",
    "df_dt[\"is_holiday\"] = prod_df['date'].isin(hdays)\n",
    "df_dt[\"is_holiday\"] = df_dt[\"is_holiday\"].astype(int)\n",
    "df_dt['date_season'] = prod_df.date.map(season_from_date)\n",
    "prod_df = pd.concat([prod_df, df_dt], axis=1)\n",
    "prod_df = prod_df.drop('date', axis='columns')\n",
    "prod_df"
   ]
  },
  {
   "cell_type": "code",
   "execution_count": null,
   "id": "9f4cada8-8bf5-4208-a634-b0723de1df9b",
   "metadata": {},
   "outputs": [],
   "source": []
  },
  {
   "cell_type": "markdown",
   "id": "e02d61d3-6a1d-4db8-9be9-605804acca6b",
   "metadata": {},
   "source": [
    "# Set target and drop from df"
   ]
  },
  {
   "cell_type": "code",
   "execution_count": null,
   "id": "b72f7add-9e65-4190-8e88-f6372728c3b8",
   "metadata": {},
   "outputs": [],
   "source": [
    "X = prod_df.drop(\"status\", axis=1)\n",
    "y = prod_df[\"status\"]"
   ]
  },
  {
   "cell_type": "markdown",
   "id": "3c221437-3f81-4018-8cab-4544afeb1550",
   "metadata": {},
   "source": [
    "# Cat features"
   ]
  },
  {
   "cell_type": "code",
   "execution_count": null,
   "id": "e7742c41-95f3-4976-8ec9-2409b6227a67",
   "metadata": {},
   "outputs": [],
   "source": [
    "cat_features = list(range(0, X.shape[1]))\n",
    "print(cat_features)"
   ]
  },
  {
   "cell_type": "code",
   "execution_count": null,
   "id": "4530ea6b-9231-452c-91af-f21006cdf6f1",
   "metadata": {},
   "outputs": [],
   "source": [
    "from sklearn.model_selection import train_test_split\n",
    "\n",
    "X_train, X_val, y_train, y_val = train_test_split(X, y, test_size=0.25, random_state=0)"
   ]
  },
  {
   "cell_type": "code",
   "execution_count": null,
   "id": "9ddd1387-2de7-4244-8110-556d226c043a",
   "metadata": {},
   "outputs": [],
   "source": [
    "from catboost import CatBoostClassifier\n",
    "\n",
    "clf = CatBoostClassifier(\n",
    "    iterations=5, \n",
    "    learning_rate=0.1, \n",
    "    #loss_function='CrossEntropy'\n",
    ")\n",
    "\n",
    "\n",
    "clf.fit(X_train, y_train, \n",
    "        cat_features=cat_features, \n",
    "        eval_set=(X_val, y_val), \n",
    "        verbose=False\n",
    ")\n",
    "\n",
    "print('CatBoost model is fitted: ' + str(clf.is_fitted()))\n",
    "print('CatBoost model parameters:')\n",
    "print(clf.get_params())"
   ]
  },
  {
   "cell_type": "code",
   "execution_count": null,
   "id": "597e0ed3-1838-4724-8c95-90647a14a684",
   "metadata": {},
   "outputs": [],
   "source": [
    "# import re\n",
    "\n",
    "\n",
    "# for idx, row in enumerate(df_spgz):\n",
    "#     kpgz = re.search(r'\\d{1,3}\\.\\d{1,3}\\.\\d{1,3}\\.\\d{1,3}', row).group()\n",
    "#     print(kpgz)\n",
    "#     if idx > 10:\n",
    "#         break\n",
    "    "
   ]
  },
  {
   "cell_type": "code",
   "execution_count": null,
   "id": "56e76e73-ea47-44bc-aa47-699fda101f54",
   "metadata": {},
   "outputs": [],
   "source": [
    "# \"\"\"\n",
    "# 1, 2, 3, 4, 5, 6 and 8 January — New Year Holidays;\n",
    "\n",
    "# 7 January — Christmas Day;\n",
    "\n",
    "# 23 February — Defender of the Fatherland Day;\n",
    "\n",
    "# 8 March — International Women’s Day;\n",
    "\n",
    "# 1 May — Spring and Labour Holiday;\n",
    "\n",
    "# 9 May — Victory Day;\n",
    "\n",
    "# 12 June — Day of Russia;\n",
    "\n",
    "# 4 November — National Unity Day.\n",
    "# \"\"\"\n",
    "\n",
    "# class RusHolidaysBusinessCalendar(AbstractHolidayCalendar):\n",
    "#    rules = [\n",
    "#      Holiday('New Year', month=12, day=31, observance=sunday_to_monday),\n",
    "#      Holiday('New Year', month=1, day=1, observance=sunday_to_monday),\n",
    "#      Holiday('New Year', month=1, day=2, observance=sunday_to_monday),\n",
    "#      Holiday('New Year', month=1, day=3, observance=sunday_to_monday),\n",
    "#      Holiday('New Year', month=1, day=4, observance=sunday_to_monday),\n",
    "#      Holiday('New Year', month=1, day=5, observance=sunday_to_monday),\n",
    "#      Holiday('New Year', month=1, day=6, observance=sunday_to_monday),\n",
    "#      Holiday('New Year', month=1, day=8, observance=sunday_to_monday),\n",
    "#      Holiday('8 March', month=3, day=8, observance=sunday_to_monday),\n",
    "#      Holiday('1 May', month=5, day=1, observance=sunday_to_monday),\n",
    "#      Holiday('9 May', month=5, day=9),\n",
    "#      Holiday('12 June', month=6, day=12, observance=sunday_to_monday),\n",
    "#      Holiday('4 November', month=5, day=1, observance=sunday_to_monday),\n",
    "#      Holiday('11 November', month=11, day=11, observance=sunday_to_monday),\n",
    "#    ]\n",
    "\n",
    "# rus_BD = CustomBusinessDay(calendar=RusHolidaysBusinessCalendar())\n",
    "# s = pd.date_range('2022-01-01', end='2022-12-31', freq=rus_BD)\n",
    "# df = df.resample(rule=CustomBusinessMonthEnd(holidays=rus_BD)).last()\n",
    "# df = pd.DataFrame(s, columns=['date'])\n",
    "# print(df.tail())"
   ]
  }
 ],
 "metadata": {
  "kernelspec": {
   "display_name": "Python 3",
   "language": "python",
   "name": "python3"
  },
  "language_info": {
   "codemirror_mode": {
    "name": "ipython",
    "version": 3
   },
   "file_extension": ".py",
   "mimetype": "text/x-python",
   "name": "python",
   "nbconvert_exporter": "python",
   "pygments_lexer": "ipython3",
   "version": "3.8.8"
  }
 },
 "nbformat": 4,
 "nbformat_minor": 5
}
